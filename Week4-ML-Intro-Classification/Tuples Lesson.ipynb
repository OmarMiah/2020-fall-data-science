{
 "cells": [
  {
   "cell_type": "code",
   "execution_count": 1,
   "metadata": {},
   "outputs": [],
   "source": [
    "year_born = (\"Paris Hilton\", 1981)"
   ]
  },
  {
   "cell_type": "code",
   "execution_count": 2,
   "metadata": {},
   "outputs": [
    {
     "data": {
      "text/plain": [
       "('Paris Hilton', 1981)"
      ]
     },
     "execution_count": 2,
     "metadata": {},
     "output_type": "execute_result"
    }
   ],
   "source": [
    "year_born"
   ]
  },
  {
   "cell_type": "code",
   "execution_count": 14,
   "metadata": {},
   "outputs": [],
   "source": [
    "julia = (\"julia\",\"roberts\",1967,\"duplicity\",2009,\"actress\",\"atlanta\",\"georgia\")"
   ]
  },
  {
   "cell_type": "code",
   "execution_count": 16,
   "metadata": {},
   "outputs": [
    {
     "data": {
      "text/plain": [
       "('julia', 'roberts', 1967, 'duplicity', 2009, 'actress', 'atlanta', 'georgia')"
      ]
     },
     "execution_count": 16,
     "metadata": {},
     "output_type": "execute_result"
    }
   ],
   "source": [
    "julia"
   ]
  },
  {
   "cell_type": "code",
   "execution_count": 10,
   "metadata": {},
   "outputs": [
    {
     "data": {
      "text/plain": [
       "2010"
      ]
     },
     "execution_count": 10,
     "metadata": {},
     "output_type": "execute_result"
    }
   ],
   "source": [
    "# tuples support sequence like strings\n",
    "julia[4]"
   ]
  },
  {
   "cell_type": "code",
   "execution_count": 7,
   "metadata": {},
   "outputs": [
    {
     "data": {
      "text/plain": [
       "('julia',\n",
       " 'roberts',\n",
       " 1967,\n",
       " 'Eat Pray Love',\n",
       " 2010,\n",
       " 'actress',\n",
       " 'atlanta',\n",
       " 'georgia')"
      ]
     },
     "execution_count": 7,
     "metadata": {},
     "output_type": "execute_result"
    }
   ],
   "source": [
    "# tuples are immutable but we can reference a new tuple with added data\n",
    "julia = julia[:3] + (\"Eat Pray Love\", 2010) + julia[5:]\n",
    "julia"
   ]
  },
  {
   "cell_type": "code",
   "execution_count": 12,
   "metadata": {},
   "outputs": [
    {
     "data": {
      "text/plain": [
       "(5,)"
      ]
     },
     "execution_count": 12,
     "metadata": {},
     "output_type": "execute_result"
    }
   ],
   "source": [
    "tup =(5,)\n",
    "tup"
   ]
  },
  {
   "cell_type": "code",
   "execution_count": 20,
   "metadata": {},
   "outputs": [
    {
     "data": {
      "text/plain": [
       "'julia'"
      ]
     },
     "execution_count": 20,
     "metadata": {},
     "output_type": "execute_result"
    }
   ],
   "source": [
    "# power of tuple \n",
    "(name, surname, b_year, movie, m_year, profession, b_place, b_state) = julia\n",
    "\n",
    "# this is called unpacking, the number of left = number of right \n",
    "# when I call left category it returns the value of the first right category \n",
    "name"
   ]
  },
  {
   "cell_type": "code",
   "execution_count": 24,
   "metadata": {},
   "outputs": [
    {
     "data": {
      "text/plain": [
       "3"
      ]
     },
     "execution_count": 24,
     "metadata": {},
     "output_type": "execute_result"
    }
   ],
   "source": [
    "# swapping elements with tuples are easy \n",
    "a = 2\n",
    "b = 3 \n",
    "(a,b)=(b,a)\n",
    "a"
   ]
  },
  {
   "cell_type": "code",
   "execution_count": 31,
   "metadata": {},
   "outputs": [
    {
     "data": {
      "text/plain": [
       "3.141592653589793"
      ]
     },
     "execution_count": 31,
     "metadata": {},
     "output_type": "execute_result"
    }
   ],
   "source": [
    "# returning tuples \n",
    "import math\n",
    "def f(r):\n",
    "    # return circumference and area of a circle of radius r\n",
    "    c = 2 * math.pi * r \n",
    "    a = math.pi * r * r\n",
    "    return (c,a)\n",
    "\n",
    "(cir, area) = f(1)\n",
    "cir\n",
    "area"
   ]
  },
  {
   "cell_type": "code",
   "execution_count": 34,
   "metadata": {},
   "outputs": [
    {
     "data": {
      "text/plain": [
       "('names', ['omar', 'bob'], ('things', 'stuff'))"
      ]
     },
     "execution_count": 34,
     "metadata": {},
     "output_type": "execute_result"
    }
   ],
   "source": [
    "# tuples can hold list \n",
    "        # element   # list       # another tuple\n",
    "tup = ('names', [\"omar\",\"bob\"], (\"things\", \"stuff\"))\n",
    "tup"
   ]
  }
 ],
 "metadata": {
  "kernelspec": {
   "display_name": "Python 3",
   "language": "python",
   "name": "python3"
  },
  "language_info": {
   "codemirror_mode": {
    "name": "ipython",
    "version": 3
   },
   "file_extension": ".py",
   "mimetype": "text/x-python",
   "name": "python",
   "nbconvert_exporter": "python",
   "pygments_lexer": "ipython3",
   "version": "3.8.2"
  }
 },
 "nbformat": 4,
 "nbformat_minor": 4
}
